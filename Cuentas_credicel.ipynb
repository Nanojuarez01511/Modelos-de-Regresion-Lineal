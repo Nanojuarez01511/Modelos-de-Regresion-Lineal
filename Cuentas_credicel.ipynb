{
  "cells": [
    {
      "cell_type": "markdown",
      "metadata": {
        "id": "view-in-github",
        "colab_type": "text"
      },
      "source": [
        "<a href=\"https://colab.research.google.com/github/Nanojuarez01511/Modelos-de-Regresion-Lineal/blob/main/Cuentas_credicel.ipynb\" target=\"_parent\"><img src=\"https://colab.research.google.com/assets/colab-badge.svg\" alt=\"Open In Colab\"/></a>"
      ]
    },
    {
      "cell_type": "code",
      "execution_count": null,
      "metadata": {
        "id": "PfXf0JP2ufix"
      },
      "outputs": [],
      "source": [
        "import pandas as pd\n",
        "import numpy as np\n",
        "import matplotlib.pyplot as plt\n",
        "import seaborn as sns"
      ]
    },
    {
      "cell_type": "code",
      "execution_count": null,
      "metadata": {
        "id": "cNTZyytCvFg9"
      },
      "outputs": [],
      "source": [
        "from google.colab import files\n",
        "files.upload()"
      ]
    },
    {
      "cell_type": "code",
      "source": [
        "pd.options.display.max_columns=None"
      ],
      "metadata": {
        "id": "ofOClu-Bvh4A"
      },
      "execution_count": null,
      "outputs": []
    },
    {
      "cell_type": "code",
      "source": [
        "pd.options.display.max_rows=None"
      ],
      "metadata": {
        "id": "ywn9Ian1vjnc"
      },
      "execution_count": null,
      "outputs": []
    },
    {
      "cell_type": "code",
      "execution_count": null,
      "metadata": {
        "id": "VG-ePVKyv2Dp"
      },
      "outputs": [],
      "source": [
        "data = pd.read_csv('cuentas_credicel.csv', encoding= 'latin')\n",
        "data"
      ]
    },
    {
      "cell_type": "code",
      "execution_count": null,
      "metadata": {
        "id": "uqtfAM2_wMN6"
      },
      "outputs": [],
      "source": [
        "valores_nulos=data.isnull().sum()\n",
        "valores_nulos"
      ]
    },
    {
      "cell_type": "code",
      "execution_count": null,
      "metadata": {
        "id": "r_DM7st02l4I"
      },
      "outputs": [],
      "source": [
        "data.plazo = data.plazo.replace({'39S':'39'}, regex=False)"
      ]
    },
    {
      "cell_type": "code",
      "execution_count": null,
      "metadata": {
        "id": "y1xQfiKM-QmQ"
      },
      "outputs": [],
      "source": [
        "data.plazo = data.plazo.replace({'26S':'26'}, regex=False)"
      ]
    },
    {
      "cell_type": "code",
      "execution_count": null,
      "metadata": {
        "id": "YFP_fcd1-TZa"
      },
      "outputs": [],
      "source": [
        "data.plazo = data.plazo.replace({'13S':'13'}, regex=False)"
      ]
    },
    {
      "cell_type": "code",
      "execution_count": null,
      "metadata": {
        "id": "PuF-b8Pv-Wgf"
      },
      "outputs": [],
      "source": [
        "data.plazo = data.plazo.replace({'52S':'52'}, regex=False)"
      ]
    },
    {
      "cell_type": "code",
      "source": [
        "data.riesgo = data.riesgo.replace({'Cancelado':'0'}, regex=False)"
      ],
      "metadata": {
        "id": "Hm-QLonvx8qn"
      },
      "execution_count": null,
      "outputs": []
    },
    {
      "cell_type": "code",
      "source": [
        "data.riesgo = data.riesgo.replace({'Atraso':'0'}, regex=False)"
      ],
      "metadata": {
        "id": "XJu5_pyYx8lM"
      },
      "execution_count": null,
      "outputs": []
    },
    {
      "cell_type": "code",
      "source": [
        "data.riesgo = data.riesgo.replace({'Fraude':'0'}, regex=False)"
      ],
      "metadata": {
        "id": "xkt-AKZZx8KW"
      },
      "execution_count": null,
      "outputs": []
    },
    {
      "cell_type": "code",
      "execution_count": null,
      "metadata": {
        "id": "cOdbExjJ2w64"
      },
      "outputs": [],
      "source": [
        "data['plazo']=data['plazo'].astype(int)"
      ]
    },
    {
      "cell_type": "code",
      "source": [
        "data['riesgo']=data['riesgo'].astype(float)"
      ],
      "metadata": {
        "id": "XuoRfs7U1OAy"
      },
      "execution_count": null,
      "outputs": []
    },
    {
      "cell_type": "code",
      "execution_count": null,
      "metadata": {
        "id": "QHbvBbOCweSs"
      },
      "outputs": [],
      "source": [
        "data.info()"
      ]
    },
    {
      "cell_type": "code",
      "execution_count": null,
      "metadata": {
        "id": "k9hSlgztzcLa"
      },
      "outputs": [],
      "source": [
        "Cuantitativas=data.iloc[ : , [0,2,6,7,8,9,10,11,12,13,16,17,19,20,21,25,26,27,28,29]]\n",
        "Cuantitativas"
      ]
    },
    {
      "cell_type": "code",
      "execution_count": null,
      "metadata": {
        "id": "Ebz9xgyq0plk"
      },
      "outputs": [],
      "source": [
        "fig = plt.figure(figsize =(15, 8))\n",
        "Cuantitativas.plot(kind='box', vert=True)\n",
        "plt.title(\"Valores Atípicos del Dataframe\")\n",
        "plt.show() #dibujamos el diagrama"
      ]
    },
    {
      "cell_type": "code",
      "execution_count": null,
      "metadata": {
        "id": "39GVRjRM0sls"
      },
      "outputs": [],
      "source": [
        "y=Cuantitativas\n",
        "Limite_Superior= y.mean() + 3*y.std()\n",
        "Limite_Inferior= y.mean() - 3*y.std()\n",
        "print(\"Limite superior permitido\", Limite_Superior)\n",
        "print(\"Limite inferior permitido\", Limite_Inferior)"
      ]
    },
    {
      "cell_type": "code",
      "execution_count": null,
      "metadata": {
        "id": "NJOM-7Lq0tdK"
      },
      "outputs": [],
      "source": [
        "pd.options.display.max_rows = None"
      ]
    },
    {
      "cell_type": "code",
      "execution_count": null,
      "metadata": {
        "id": "UCpgk78k0w9A"
      },
      "outputs": [],
      "source": [
        "Datos_sin_Outliers= Cuantitativas[(y<=Limite_Superior)&(y>=Limite_Inferior)]\n",
        "Datos_sin_Outliers"
      ]
    },
    {
      "cell_type": "code",
      "execution_count": null,
      "metadata": {
        "id": "HWN3EsXR0-74"
      },
      "outputs": [],
      "source": [
        "valores_nulos=Datos_sin_Outliers.isnull().sum()\n",
        "valores_nulos"
      ]
    },
    {
      "cell_type": "code",
      "execution_count": null,
      "metadata": {
        "id": "TKTxzOBg1C8L"
      },
      "outputs": [],
      "source": [
        "data_clean=Datos_sin_Outliers.copy()\n",
        "data_clean=data_clean.fillna(round(Datos_sin_Outliers.mean(),1))\n",
        "data_clean"
      ]
    },
    {
      "cell_type": "code",
      "execution_count": null,
      "metadata": {
        "id": "kcngkTsN1M_U"
      },
      "outputs": [],
      "source": [
        "valores_nulos=data_clean.isnull().sum()\n",
        "valores_nulos"
      ]
    },
    {
      "cell_type": "markdown",
      "metadata": {
        "id": "srPdc4bS8ZFn"
      },
      "source": [
        "1"
      ]
    },
    {
      "cell_type": "code",
      "execution_count": null,
      "metadata": {
        "id": "trA9c0N74UbV"
      },
      "outputs": [],
      "source": [
        "from turtle import color\n",
        "sns.scatterplot(x='enganche', y='precio', color=\"blue\", data=data_clean)\n",
        "sns.scatterplot(x='costo_total', y='precio', color=\"red\", data=data_clean)"
      ]
    },
    {
      "cell_type": "code",
      "execution_count": null,
      "metadata": {
        "id": "_zLkGVAR8bKv"
      },
      "outputs": [],
      "source": [
        "Vars_Indep= data_clean[['costo_total']]\n",
        "Var_Dep= data_clean['precio']"
      ]
    },
    {
      "cell_type": "code",
      "execution_count": null,
      "metadata": {
        "id": "IGKxFbap8xI1"
      },
      "outputs": [],
      "source": [
        "from sklearn.linear_model import LinearRegression\n",
        "model= LinearRegression()"
      ]
    },
    {
      "cell_type": "code",
      "execution_count": null,
      "metadata": {
        "id": "qK93Z9hA80sA"
      },
      "outputs": [],
      "source": [
        "model.fit(X=Vars_Indep, y=Var_Dep)"
      ]
    },
    {
      "cell_type": "code",
      "execution_count": null,
      "metadata": {
        "id": "c_YYsmgq83kN"
      },
      "outputs": [],
      "source": [
        "model.__dict__"
      ]
    },
    {
      "cell_type": "markdown",
      "metadata": {
        "id": "_-ypNs5-8-6t"
      },
      "source": [
        "**modelo=0.50428665x+1150.9382599491637**"
      ]
    },
    {
      "cell_type": "code",
      "execution_count": null,
      "metadata": {
        "id": "BwOBea-q_nd-"
      },
      "outputs": [],
      "source": [
        "Vars_Indep= data_clean[['enganche']]\n",
        "Var_Dep= data_clean['precio']"
      ]
    },
    {
      "cell_type": "code",
      "execution_count": null,
      "metadata": {
        "id": "hLVnZrkk_qTq"
      },
      "outputs": [],
      "source": [
        "from sklearn.linear_model import LinearRegression\n",
        "model= LinearRegression()"
      ]
    },
    {
      "cell_type": "code",
      "execution_count": null,
      "metadata": {
        "id": "ztnj0YTl_sJF"
      },
      "outputs": [],
      "source": [
        "model.fit(X=Vars_Indep, y=Var_Dep)"
      ]
    },
    {
      "cell_type": "code",
      "execution_count": null,
      "metadata": {
        "id": "9h-aI1b5_trE"
      },
      "outputs": [],
      "source": [
        "model.__dict__"
      ]
    },
    {
      "cell_type": "markdown",
      "metadata": {
        "id": "2f_Tki1G_w27"
      },
      "source": [
        "**modelo=2.4137626x+1802.6801927977403**"
      ]
    },
    {
      "cell_type": "markdown",
      "metadata": {
        "id": "1sZQ16LU_lFu"
      },
      "source": [
        "2"
      ]
    },
    {
      "cell_type": "code",
      "execution_count": null,
      "metadata": {
        "id": "FEKjoYiC_imc"
      },
      "outputs": [],
      "source": [
        "from turtle import color\n",
        "sns.scatterplot(x='pagos_realizados', y='monto_financiado', color=\"blue\", data=data_clean)\n",
        "sns.scatterplot(x='plazo', y='monto_financiado', color=\"red\", data=data_clean)"
      ]
    },
    {
      "cell_type": "code",
      "execution_count": null,
      "metadata": {
        "id": "wM5MmPn1AWGz"
      },
      "outputs": [],
      "source": [
        "Vars_Indep= data_clean[['pagos_realizados']]\n",
        "Var_Dep= data_clean['monto_financiado']"
      ]
    },
    {
      "cell_type": "code",
      "execution_count": null,
      "metadata": {
        "id": "U2AkYoa3AYqe"
      },
      "outputs": [],
      "source": [
        "from sklearn.linear_model import LinearRegression\n",
        "model= LinearRegression()"
      ]
    },
    {
      "cell_type": "code",
      "execution_count": null,
      "metadata": {
        "id": "uMqCaRBvAaIW"
      },
      "outputs": [],
      "source": [
        "model.fit(X=Vars_Indep, y=Var_Dep)"
      ]
    },
    {
      "cell_type": "code",
      "execution_count": null,
      "metadata": {
        "id": "o1f8fj0jAbf9"
      },
      "outputs": [],
      "source": [
        "model.__dict__"
      ]
    },
    {
      "cell_type": "markdown",
      "metadata": {
        "id": "TC-0Xu7CAj6N"
      },
      "source": [
        "**modelo=6.02119584x+2984.0779398615073**"
      ]
    },
    {
      "cell_type": "code",
      "execution_count": null,
      "metadata": {
        "id": "kWNP8izoApRm"
      },
      "outputs": [],
      "source": [
        "Vars_Indep= data_clean[['plazo']]\n",
        "Var_Dep= data_clean['monto_financiado']"
      ]
    },
    {
      "cell_type": "code",
      "execution_count": null,
      "metadata": {
        "id": "kg0Nbd-5Aq4a"
      },
      "outputs": [],
      "source": [
        "from sklearn.linear_model import LinearRegression\n",
        "model= LinearRegression()"
      ]
    },
    {
      "cell_type": "code",
      "execution_count": null,
      "metadata": {
        "id": "21gjd4sbCddr"
      },
      "outputs": [],
      "source": [
        "valores_nulos=data_clean.isnull().sum()\n",
        "valores_nulos"
      ]
    },
    {
      "cell_type": "code",
      "execution_count": null,
      "metadata": {
        "id": "OUvU4J3FAsB7"
      },
      "outputs": [],
      "source": [
        "model.fit(X=Vars_Indep, y=Var_Dep)"
      ]
    },
    {
      "cell_type": "code",
      "execution_count": null,
      "metadata": {
        "id": "yS9fUfawAuHB"
      },
      "outputs": [],
      "source": [
        "model.__dict__"
      ]
    },
    {
      "cell_type": "markdown",
      "source": [
        "**modelo=26.14011984x+2366.508025415395**"
      ],
      "metadata": {
        "id": "5OH80yxXxDXR"
      }
    },
    {
      "cell_type": "markdown",
      "source": [
        "**3**"
      ],
      "metadata": {
        "id": "erU7dmiDxLSu"
      }
    },
    {
      "cell_type": "code",
      "source": [
        "from turtle import color\n",
        "sns.scatterplot(x='riesgo', y='plazo', color=\"blue\", data=data_clean)\n",
        "sns.scatterplot(x='porc_enganche', y='plazo', color=\"red\", data=data_clean)"
      ],
      "metadata": {
        "id": "PAn8TXvKxKm2"
      },
      "execution_count": null,
      "outputs": []
    },
    {
      "cell_type": "code",
      "source": [
        "Vars_Indep= data_clean[['riesgo']]\n",
        "Var_Dep= data_clean['plazo']"
      ],
      "metadata": {
        "id": "KVlIZ29J2JIZ"
      },
      "execution_count": null,
      "outputs": []
    },
    {
      "cell_type": "code",
      "source": [
        "from sklearn.linear_model import LinearRegression\n",
        "model= LinearRegression()"
      ],
      "metadata": {
        "id": "HlZOYGii2Mbw"
      },
      "execution_count": null,
      "outputs": []
    },
    {
      "cell_type": "code",
      "source": [
        "model.fit(X=Vars_Indep, y=Var_Dep)"
      ],
      "metadata": {
        "id": "22M308ex2Mp7"
      },
      "execution_count": null,
      "outputs": []
    },
    {
      "cell_type": "code",
      "source": [
        "model.__dict__"
      ],
      "metadata": {
        "id": "oaa6iSpw2M1g"
      },
      "execution_count": null,
      "outputs": []
    },
    {
      "cell_type": "markdown",
      "source": [
        "**modelo=-0.08162256x+26.409780757642913**"
      ],
      "metadata": {
        "id": "GYJVCT_q2_GF"
      }
    },
    {
      "cell_type": "code",
      "source": [
        "Vars_Indep= data_clean[['porc_enganche']]\n",
        "Var_Dep= data_clean['plazo']"
      ],
      "metadata": {
        "id": "lreOgcPU3Fim"
      },
      "execution_count": null,
      "outputs": []
    },
    {
      "cell_type": "code",
      "source": [
        "from sklearn.linear_model import LinearRegression\n",
        "model= LinearRegression()"
      ],
      "metadata": {
        "id": "Cs9FY8xR3HnT"
      },
      "execution_count": null,
      "outputs": []
    },
    {
      "cell_type": "code",
      "source": [
        "model.fit(X=Vars_Indep, y=Var_Dep)"
      ],
      "metadata": {
        "id": "_gGU9KPN3Hdf"
      },
      "execution_count": null,
      "outputs": []
    },
    {
      "cell_type": "code",
      "source": [
        "model.__dict__"
      ],
      "metadata": {
        "id": "0kG4e7CL3HY2"
      },
      "execution_count": null,
      "outputs": []
    },
    {
      "cell_type": "markdown",
      "source": [
        "**modelo=-0.37059697x+25.97250061431525**"
      ],
      "metadata": {
        "id": "R9FUegYa3V5n"
      }
    }
  ],
  "metadata": {
    "colab": {
      "provenance": [],
      "authorship_tag": "ABX9TyOqbkanjGqU2gqEQ79Hg1EJ",
      "include_colab_link": true
    },
    "kernelspec": {
      "display_name": "Python 3",
      "name": "python3"
    },
    "language_info": {
      "name": "python"
    }
  },
  "nbformat": 4,
  "nbformat_minor": 0
}